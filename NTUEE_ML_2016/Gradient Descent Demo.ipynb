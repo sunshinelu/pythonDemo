{
 "cells": [
  {
   "cell_type": "code",
   "execution_count": 14,
   "metadata": {},
   "outputs": [],
   "source": [
    "import numpy as np\n",
    "import matplotlib.pyplot as plt\n"
   ]
  },
  {
   "cell_type": "code",
   "execution_count": 15,
   "metadata": {
    "collapsed": true
   },
   "outputs": [],
   "source": [
    "x_data = [ 338., 333., 328., 207., 226., 25., 179., 60., 208., 606.]\n",
    "y_data = [ 640., 633., 619., 393., 428., 27., 193., 66., 226., 1591.]\n",
    "# ydata = b + w * xdata"
   ]
  },
  {
   "cell_type": "code",
   "execution_count": 16,
   "metadata": {
    "collapsed": false
   },
   "outputs": [],
   "source": [
    "x = np.arange(-200, -100, 1) # bias\n",
    "y = np.arange(-5, 5, 0.1) # weight\n",
    "Z = np.zeros((len(x), len(y)))\n",
    "X,Y = np.meshgrid(x, y)\n",
    "for i in range(len(x)):\n",
    "\tfor j in range(len(y)):\n",
    "\t\tb = x[i]\n",
    "\t\tw = y[j]\n",
    "\t\tZ[j][i] = 0\n",
    "\t\tfor n in range(len(x_data)):\n",
    "\t\t\tZ[j][i] = Z[j][i] + (y_data[n] - b - w*x_data[n])**2\n",
    "\t\tZ[j][i] = Z[j][i]/len(x_data)"
   ]
  },
  {
   "cell_type": "code",
   "execution_count": 18,
   "metadata": {},
   "outputs": [
    {
     "data": {
      "image/png": "[encoded data removed]",
      "text/plain": [
       "<matplotlib.figure.Figure at 0x2241f618748>"
      ]
     },
     "metadata": {},
     "output_type": "display_data"
    }
   ],
   "source": [
    "# ydata = b + w * xdata\n",
    "b = -120 # initial b\n",
    "w = -4 # initial w\n",
    "lr = 0.0000001 # learning rate\n",
    "iteration = 100000\n",
    "\n",
    "# store initial values for plotting\n",
    "b_history = [b]\n",
    "w_history = [w]\n",
    "\n",
    "# iterations\n",
    "for i in range(iteration):\n",
    "\tb_grad = 0.0\n",
    "\tw_grad = 0.0\n",
    "\tfor n in range(len(x_data)):\n",
    "\t\tb_grad = b_grad - 2.0*(y_data[n] - b -w*x_data[n])*1.0\n",
    "\t\tw_grad = w_grad - 2.0*(y_data[n] - b - w*x_data[n])*x_data[n]\n",
    "\t\n",
    "\t# update parameters\n",
    "\tb = b - lr * b_grad\n",
    "\tw = w - lr * w_grad\n",
    "\t\n",
    "\t# store parameters for ploting\n",
    "\tb_history.append(b)\n",
    "\tw_history.append(w)\n",
    "\n",
    "# plot the figure\n",
    "plt.contourf(x, y, Z, 50, alpha=0.5, camp=plt.get_cmap('jet'))\n",
    "plt.plot([-188.4], [2.67], 'x', ms=12, markeredgewidth=3, color='orange')\n",
    "plt.plot(b_history, w_history, 'o-', ms=3, lw=1.5, color='black')\n",
    "plt.xlim(-200, -100)\n",
    "plt.ylim(-5,5)\n",
    "plt.xlabel(r'$b$', fontsize=16)\n",
    "plt.ylabel(r'$w$', fontsize=16)\n",
    "plt.show()"
   ]
  },
  {
   "cell_type": "code",
   "execution_count": 19,
   "metadata": {},
   "outputs": [
    {
     "data": {
      "image/png": "[encoded data removed]",
      "text/plain": [
       "<matplotlib.figure.Figure at 0x2242016b908>"
      ]
     },
     "metadata": {},
     "output_type": "display_data"
    }
   ],
   "source": [
    "\n",
    "# ydata = b + w * xdata\n",
    "b = -120 # initial b\n",
    "w = -4 # initial w\n",
    "lr = 0.000001 # learning rate\n",
    "iteration = 100000\n",
    "\n",
    "# store initial values for plotting\n",
    "b_history = [b]\n",
    "w_history = [w]\n",
    "\n",
    "# iterations\n",
    "for i in range(iteration):\n",
    "\tb_grad = 0.0\n",
    "\tw_grad = 0.0\n",
    "\tfor n in range(len(x_data)):\n",
    "\t\tb_grad = b_grad - 2.0*(y_data[n] - b -w*x_data[n])*1.0\n",
    "\t\tw_grad = w_grad - 2.0*(y_data[n] - b - w*x_data[n])*x_data[n]\n",
    "\t\n",
    "\t# update parameters\n",
    "\tb = b - lr * b_grad\n",
    "\tw = w - lr * w_grad\n",
    "\t\n",
    "\t# store parameters for ploting\n",
    "\tb_history.append(b)\n",
    "\tw_history.append(w)\n",
    "\n",
    "# plot the figure\n",
    "plt.contourf(x, y, Z, 50, alpha=0.5, camp=plt.get_cmap('jet'))\n",
    "plt.plot([-188.4], [2.67], 'x', ms=12, markeredgewidth=3, color='orange')\n",
    "plt.plot(b_history, w_history, 'o-', ms=3, lw=1.5, color='black')\n",
    "plt.xlim(-200, -100)\n",
    "plt.ylim(-5,5)\n",
    "plt.xlabel(r'$b$', fontsize=16)\n",
    "plt.ylabel(r'$w$', fontsize=16)\n",
    "plt.show()"
   ]
  },
  {
   "cell_type": "code",
   "execution_count": 20,
   "metadata": {},
   "outputs": [
    {
     "data": {
      "image/png": "[encoded data removed]",
      "text/plain": [
       "<matplotlib.figure.Figure at 0x2242057e908>"
      ]
     },
     "metadata": {},
     "output_type": "display_data"
    }
   ],
   "source": [
    "\n",
    "# ydata = b + w * xdata\n",
    "b = -120 # initial b\n",
    "w = -4 # initial w\n",
    "lr = 0.00001 # learning rate\n",
    "iteration = 100000\n",
    "\n",
    "# store initial values for plotting\n",
    "b_history = [b]\n",
    "w_history = [w]\n",
    "\n",
    "# iterations\n",
    "for i in range(iteration):\n",
    "\tb_grad = 0.0\n",
    "\tw_grad = 0.0\n",
    "\tfor n in range(len(x_data)):\n",
    "\t\tb_grad = b_grad - 2.0*(y_data[n] - b -w*x_data[n])*1.0\n",
    "\t\tw_grad = w_grad - 2.0*(y_data[n] - b - w*x_data[n])*x_data[n]\n",
    "\t\n",
    "\t# update parameters\n",
    "\tb = b - lr * b_grad\n",
    "\tw = w - lr * w_grad\n",
    "\t\n",
    "\t# store parameters for ploting\n",
    "\tb_history.append(b)\n",
    "\tw_history.append(w)\n",
    "\n",
    "# plot the figure\n",
    "plt.contourf(x, y, Z, 50, alpha=0.5, camp=plt.get_cmap('jet'))\n",
    "plt.plot([-188.4], [2.67], 'x', ms=12, markeredgewidth=3, color='orange')\n",
    "plt.plot(b_history, w_history, 'o-', ms=3, lw=1.5, color='black')\n",
    "plt.xlim(-200, -100)\n",
    "plt.ylim(-5,5)\n",
    "plt.xlabel(r'$b$', fontsize=16)\n",
    "plt.ylabel(r'$w$', fontsize=16)\n",
    "plt.show()"
   ]
  },
  {
   "cell_type": "code",
   "execution_count": 21,
   "metadata": {},
   "outputs": [
    {
     "data": {
      "image/png": "[encoded data removed]",
      "text/plain": [
       "<matplotlib.figure.Figure at 0x224205c8908>"
      ]
     },
     "metadata": {},
     "output_type": "display_data"
    }
   ],
   "source": [
    "\n",
    "# ydata = b + w * xdata\n",
    "b = -120 # initial b\n",
    "w = -4 # initial w\n",
    "lr = 1 # learning rate\n",
    "iteration = 100000\n",
    "\n",
    "# store initial values for plotting\n",
    "b_history = [b]\n",
    "w_history = [w]\n",
    "\n",
    "lr_b = 0\n",
    "lr_w = 0\n",
    "\n",
    "# iterations\n",
    "for i in range(iteration):\n",
    "\tb_grad = 0.0\n",
    "\tw_grad = 0.0\n",
    "\tfor n in range(len(x_data)):\n",
    "\t\tb_grad = b_grad - 2.0*(y_data[n] - b -w*x_data[n])*1.0\n",
    "\t\tw_grad = w_grad - 2.0*(y_data[n] - b - w*x_data[n])*x_data[n]\n",
    "\t\n",
    "\tlr_b = lr_b + b_grad**2\n",
    "\tlr_w = lr_w + w_grad**2\n",
    "\t\n",
    "\t# update parameters\n",
    "\tb = b - lr/np.sqrt(lr_b) * b_grad\n",
    "\tw = w - lr/np.sqrt(lr_w) * w_grad\n",
    "\t\n",
    "\t# store parameters for ploting\n",
    "\tb_history.append(b)\n",
    "\tw_history.append(w)\n",
    "\n",
    "# plot the figure\n",
    "plt.contourf(x, y, Z, 50, alpha=0.5, camp=plt.get_cmap('jet'))\n",
    "plt.plot([-188.4], [2.67], 'x', ms=12, markeredgewidth=3, color='orange')\n",
    "plt.plot(b_history, w_history, 'o-', ms=3, lw=1.5, color='black')\n",
    "plt.xlim(-200, -100)\n",
    "plt.ylim(-5,5)\n",
    "plt.xlabel(r'$b$', fontsize=16)\n",
    "plt.ylabel(r'$w$', fontsize=16)\n",
    "plt.show()\n"
   ]
  },
  {
   "cell_type": "code",
   "execution_count": null,
   "metadata": {},
   "outputs": [],
   "source": []
  }
 ],
 "metadata": {
  "kernelspec": {
   "display_name": "Python 2",
   "language": "python",
   "name": "python2"
  },
  "language_info": {
   "codemirror_mode": {
    "name": "ipython",
    "version": 2
   },
   "file_extension": ".py",
   "mimetype": "text/x-python",
   "name": "python",
   "nbconvert_exporter": "python",
   "pygments_lexer": "ipython2",
   "version": "2.7.6"
  }
 },
 "nbformat": 4,
 "nbformat_minor": 0
}
