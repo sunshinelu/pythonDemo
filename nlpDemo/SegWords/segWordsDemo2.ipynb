{
 "cells": [
  {
   "cell_type": "markdown",
   "metadata": {},
   "source": [
    "Python中文分词 jieba 十五分钟入门与进阶:\n",
    "http://blog.csdn.net/fontthrone/article/details/72782499"
   ]
  },
  {
   "cell_type": "markdown",
   "metadata": {},
   "source": [
    "三种分词模式与一个参数"
   ]
  },
  {
   "cell_type": "code",
   "execution_count": 1,
   "metadata": {},
   "outputs": [
    {
     "name": "stderr",
     "output_type": "stream",
     "text": [
      "Building prefix dict from the default dictionary ...\n"
     ]
    },
    {
     "name": "stderr",
     "output_type": "stream",
     "text": [
      "Dumping model to file cache /var/folders/9f/ztmq3pbj1dnfh4wctr4nbnd80000gn/T/jieba.cache\n"
     ]
    },
    {
     "name": "stderr",
     "output_type": "stream",
     "text": [
      "Loading model cost 6.789 seconds.\n"
     ]
    },
    {
     "name": "stderr",
     "output_type": "stream",
     "text": [
      "Prefix dict has been built succesfully.\n"
     ]
    },
    {
     "name": "stdout",
     "output_type": "stream",
     "text": [
      "Full Mode: 我/ 来到/ 北京/ 清华/ 清华大学/ 华大/ 大学\nDefault Mode: 我/ 来到/ 北京/ 清华大学\n他, 来到, 了, 网易, 杭, 研, 大厦\n小, 明, 硕士, 毕业, 于, 中国, 科学, 学院, 科学院, 中国科学院, 计算, 计算所, ，, 后, 在, 日本, 京都, 大学, 日本京都大学, 深造\n"
     ]
    }
   ],
   "source": [
    "import jieba\n",
    "\n",
    "seg_list = jieba.cut(\"我来到北京清华大学\", cut_all=True, HMM=False)\n",
    "print(\"Full Mode: \" + \"/ \".join(seg_list))  # 全模式\n",
    "\n",
    "seg_list = jieba.cut(\"我来到北京清华大学\", cut_all=False, HMM=True)\n",
    "print(\"Default Mode: \" + \"/ \".join(seg_list))  # 默认模式\n",
    "\n",
    "seg_list = jieba.cut(\"他来到了网易杭研大厦\", HMM=False)\n",
    "print(\", \".join(seg_list))\n",
    "\n",
    "seg_list = jieba.cut_for_search(\"小明硕士毕业于中国科学院计算所，后在日本京都大学深造\", HMM=False)  # 搜索引擎模式\n",
    "print(\", \".join(seg_list))"
   ]
  },
  {
   "cell_type": "code",
   "execution_count": 26,
   "metadata": {},
   "outputs": [],
   "source": [
    "import jieba \n",
    "import chardet\n",
    "import sys  \n",
    "reload(sys)  \n",
    "sys.setdefaultencoding('utf8')   \n",
    "\n",
    "f1 =open(\"/Users/sunlu/Workspaces/PyCharm/Github/pythonDemo/nlpDemo/SegWords/test1.txt\")  \n",
    "f2 =open(\"/Users/sunlu/Workspaces/PyCharm/Github/pythonDemo/nlpDemo/SegWords/test1_fenci.txt\", 'a')  \n",
    "# data = f1.read()\n",
    "# print chardet.detect(data)\n",
    "lines =f1.readlines()  # 读取全部内容  \n",
    "for line in lines:  \n",
    "    line.replace('\\t', '').replace('\\n', '').replace(' ','')\n",
    "    seg_list = \\\n",
    "        jieba.cut(line, cut_all=False)  \n",
    "    # print \" \".join(seg_list)\n",
    "    f2.write(\" \".join(seg_list))  \n",
    "   \n",
    "f1.close()  \n",
    "f2.close()"
   ]
  },
  {
   "cell_type": "heading",
   "metadata": {
    "collapsed": true
   },
   "level": 1,
   "source": [
    "关键词提取"
   ]
  },
  {
   "cell_type": "code",
   "execution_count": 8,
   "metadata": {},
   "outputs": [
    {
     "name": "stdout",
     "output_type": "stream",
     "text": [
      "和曼桢\n时候\n几年\n曼桢\n指顾间\n心醉\n三年五载\n第一次\n认识\n相信\n生老病死\n什么\n真快\n哀乐\n当然\n一生一世\n看见\n谎话\n记不清\n连带\n一跳\n许多\n那句话\n吓人\n对于\n问过\n过得\n中年\n分手\n十四年\n工夫\n八年\n年轻人\n自己\n可以\n已经\n简直\n十年\n仿佛\n情形\n绝对\n日子\n曾经\n到底\n经历\n喜欢\n马上\n里面\n好像\n多年\n"
     ]
    }
   ],
   "source": [
    "from os import path\n",
    "import jieba.analyse as analyse\n",
    "\n",
    "\n",
    "text_path = '/Users/sunlu/Workspaces/PyCharm/Github/pythonDemo/nlpDemo/SegWords/test1.txt' #设置要分析的文本路径\n",
    "text = open(text_path).read()\n",
    "\n",
    "for key in analyse.extract_tags(text,50, withWeight=False):\n",
    "# 使用jieba.analyse.extract_tags()参数提取关键字,默认参数为50\n",
    "    print key.encode('utf-8')\n",
    "    # 设置输出编码为utf-8不然在因为win下控制台默认中文字符集为gbk,所以会出现乱码\n",
    "    # 当withWeight=True时,将会返回number类型的一个权重值(TF-IDF)"
   ]
  },
  {
   "cell_type": "code",
   "execution_count": null,
   "metadata": {},
   "outputs": [],
   "source": [
    ""
   ]
  }
 ],
 "metadata": {
  "kernelspec": {
   "display_name": "Python 2",
   "language": "python",
   "name": "python2"
  },
  "language_info": {
   "codemirror_mode": {
    "name": "ipython",
    "version": 2.0
   },
   "file_extension": ".py",
   "mimetype": "text/x-python",
   "name": "python",
   "nbconvert_exporter": "python",
   "pygments_lexer": "ipython2",
   "version": "2.7.6"
  }
 },
 "nbformat": 4,
 "nbformat_minor": 0
}