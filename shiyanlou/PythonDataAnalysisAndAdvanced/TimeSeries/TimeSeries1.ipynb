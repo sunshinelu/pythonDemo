{
 "cells": [
  {
   "cell_type": "code",
   "execution_count": 6,
   "metadata": {
    "collapsed": true
   },
   "outputs": [],
   "source": [
    "import pandas as pd"
   ]
  },
  {
   "cell_type": "markdown",
   "metadata": {},
   "source": [
    "Timestamp 时间戳"
   ]
  },
  {
   "cell_type": "code",
   "execution_count": 2,
   "metadata": {},
   "outputs": [
    {
     "data": {
      "text/plain": [
       "Timestamp('2017-01-01 00:00:00')"
      ]
     },
     "execution_count": 2,
     "metadata": {},
     "output_type": "execute_result"
    }
   ],
   "source": [
    "pd.Timestamp(\"2017-1-1\")"
   ]
  },
  {
   "cell_type": "code",
   "execution_count": 4,
   "metadata": {},
   "outputs": [
    {
     "data": {
      "text/plain": [
       "Timestamp('2017-10-01 00:00:00')"
      ]
     },
     "execution_count": 4,
     "metadata": {},
     "output_type": "execute_result"
    }
   ],
   "source": [
    "pd.Timestamp(2017,10,1)"
   ]
  },
  {
   "cell_type": "code",
   "execution_count": 5,
   "metadata": {},
   "outputs": [
    {
     "data": {
      "text/plain": [
       "Timestamp('2018-01-01 12:59:59')"
      ]
     },
     "execution_count": 5,
     "metadata": {},
     "output_type": "execute_result"
    }
   ],
   "source": [
    "pd.Timestamp(\"2018--1-1 12:59:59\")"
   ]
  },
  {
   "cell_type": "markdown",
   "metadata": {},
   "source": [
    "时间戳索引"
   ]
  },
  {
   "cell_type": "code",
   "execution_count": 7,
   "metadata": {},
   "outputs": [
    {
     "data": {
      "text/plain": [
       "DatetimeIndex(['2017-01-01', '2017-01-02', '2017-01-03'], dtype='datetime64[ns]', freq=None)"
      ]
     },
     "execution_count": 7,
     "metadata": {},
     "output_type": "execute_result"
    }
   ],
   "source": [
    "pd.to_datetime([\"2017-1-1\",\"2017-1-2\",\"2017-1-3\"])"
   ]
  },
  {
   "cell_type": "code",
   "execution_count": 9,
   "metadata": {},
   "outputs": [
    {
     "data": {
      "text/plain": [
       "DatetimeIndex(['2017-07-01', '2017-10-10', 'NaT'], dtype='datetime64[ns]', freq=None)"
      ]
     },
     "execution_count": 9,
     "metadata": {},
     "output_type": "execute_result"
    }
   ],
   "source": [
    "pd.to_datetime(['Jul 1, 2017', '2017-10-10', None])"
   ]
  },
  {
   "cell_type": "code",
   "execution_count": 10,
   "metadata": {},
   "outputs": [
    {
     "data": {
      "text/plain": [
       "DatetimeIndex(['2017-10-01', '2017-01-31'], dtype='datetime64[ns]', freq=None)"
      ]
     },
     "execution_count": 10,
     "metadata": {},
     "output_type": "execute_result"
    }
   ],
   "source": [
    "pd.to_datetime(['2017/10/1','2017.1.31'])"
   ]
  },
  {
   "cell_type": "code",
   "execution_count": 12,
   "metadata": {},
   "outputs": [
    {
     "data": {
      "text/plain": [
       "Timestamp('2017-01-10 00:00:00')"
      ]
     },
     "execution_count": 12,
     "metadata": {},
     "output_type": "execute_result"
    }
   ],
   "source": [
    "pd.to_datetime('1-10-2017')"
   ]
  },
  {
   "cell_type": "code",
   "execution_count": 13,
   "metadata": {},
   "outputs": [
    {
     "data": {
      "text/plain": [
       "Timestamp('2017-10-01 00:00:00')"
      ]
     },
     "execution_count": 13,
     "metadata": {},
     "output_type": "execute_result"
    }
   ],
   "source": [
    "pd.to_datetime('1-10-2017', dayfirst=True)"
   ]
  },
  {
   "cell_type": "code",
   "execution_count": 14,
   "metadata": {},
   "outputs": [
    {
     "data": {
      "text/plain": [
       "0   2017-01-01\n1   2017-01-02\n2   2017-01-03\ndtype: datetime64[ns]"
      ]
     },
     "execution_count": 14,
     "metadata": {},
     "output_type": "execute_result"
    }
   ],
   "source": [
    "pd.to_datetime(pd.Series(['2017-1-1','2017-1-2','2017-1-3']))"
   ]
  },
  {
   "cell_type": "code",
   "execution_count": 15,
   "metadata": {},
   "outputs": [
    {
     "data": {
      "text/plain": [
       "DatetimeIndex(['2017-01-01', '2017-01-02', '2017-01-03'], dtype='datetime64[ns]', freq=None)"
      ]
     },
     "execution_count": 15,
     "metadata": {},
     "output_type": "execute_result"
    }
   ],
   "source": [
    "pd.to_datetime(['2017-1-1','2017-1-2','2017-1-3'])"
   ]
  },
  {
   "cell_type": "code",
   "execution_count": 16,
   "metadata": {},
   "outputs": [
    {
     "data": {
      "text/plain": [
       "0   2017-01-03 05:00:00\n1   2017-02-04 06:00:00\ndtype: datetime64[ns]"
      ]
     },
     "execution_count": 16,
     "metadata": {},
     "output_type": "execute_result"
    }
   ],
   "source": [
    "pd.to_datetime(pd.DataFrame({'year':[2017,2017],'month':[1,2],'day':[3,4],'hour':[5,6]}))"
   ]
  },
  {
   "cell_type": "code",
   "execution_count": 17,
   "metadata": {},
   "outputs": [
    {
     "ename": "ValueError",
     "evalue": "Unknown string format",
     "traceback": [
      "\u001b[0;31m\u001b[0m",
      "\u001b[0;31mValueError\u001b[0mTraceback (most recent call last)",
      "\u001b[0;32m<ipython-input-17-871aeafee85f>\u001b[0m in \u001b[0;36m<module>\u001b[0;34m()\u001b[0m\n\u001b[1;32m      1\u001b[0m \u001b[0;31m# 遇到无效数据报错\u001b[0m\u001b[0;34m\u001b[0m\u001b[0;34m\u001b[0m\u001b[0m\n\u001b[0;32m----> 2\u001b[0;31m \u001b[0mpd\u001b[0m\u001b[0;34m.\u001b[0m\u001b[0mto_datetime\u001b[0m\u001b[0;34m(\u001b[0m\u001b[0;34m[\u001b[0m\u001b[0;34m'2017-1-1'\u001b[0m\u001b[0;34m,\u001b[0m\u001b[0;34m'invalid'\u001b[0m\u001b[0;34m]\u001b[0m\u001b[0;34m,\u001b[0m \u001b[0merrors\u001b[0m\u001b[0;34m=\u001b[0m\u001b[0;34m'raise'\u001b[0m\u001b[0;34m)\u001b[0m\u001b[0;34m\u001b[0m\u001b[0m\n\u001b[0m",
      "\u001b[0;32m/Users/sunlu/anaconda/lib/python2.7/site-packages/pandas/core/tools/datetimes.pyc\u001b[0m in \u001b[0;36mto_datetime\u001b[0;34m(arg, errors, dayfirst, yearfirst, utc, box, format, exact, unit, infer_datetime_format, origin)\u001b[0m\n\u001b[1;32m    514\u001b[0m         \u001b[0mresult\u001b[0m \u001b[0;34m=\u001b[0m \u001b[0m_convert_listlike\u001b[0m\u001b[0;34m(\u001b[0m\u001b[0marg\u001b[0m\u001b[0;34m,\u001b[0m \u001b[0mbox\u001b[0m\u001b[0;34m,\u001b[0m \u001b[0mformat\u001b[0m\u001b[0;34m,\u001b[0m \u001b[0mname\u001b[0m\u001b[0;34m=\u001b[0m\u001b[0marg\u001b[0m\u001b[0;34m.\u001b[0m\u001b[0mname\u001b[0m\u001b[0;34m)\u001b[0m\u001b[0;34m\u001b[0m\u001b[0m\n\u001b[1;32m    515\u001b[0m     \u001b[0;32melif\u001b[0m \u001b[0mis_list_like\u001b[0m\u001b[0;34m(\u001b[0m\u001b[0marg\u001b[0m\u001b[0;34m)\u001b[0m\u001b[0;34m:\u001b[0m\u001b[0;34m\u001b[0m\u001b[0m\n\u001b[0;32m--> 516\u001b[0;31m         \u001b[0mresult\u001b[0m \u001b[0;34m=\u001b[0m \u001b[0m_convert_listlike\u001b[0m\u001b[0;34m(\u001b[0m\u001b[0marg\u001b[0m\u001b[0;34m,\u001b[0m \u001b[0mbox\u001b[0m\u001b[0;34m,\u001b[0m \u001b[0mformat\u001b[0m\u001b[0;34m)\u001b[0m\u001b[0;34m\u001b[0m\u001b[0m\n\u001b[0m\u001b[1;32m    517\u001b[0m     \u001b[0;32melse\u001b[0m\u001b[0;34m:\u001b[0m\u001b[0;34m\u001b[0m\u001b[0m\n\u001b[1;32m    518\u001b[0m         \u001b[0mresult\u001b[0m \u001b[0;34m=\u001b[0m \u001b[0m_convert_listlike\u001b[0m\u001b[0;34m(\u001b[0m\u001b[0mnp\u001b[0m\u001b[0;34m.\u001b[0m\u001b[0marray\u001b[0m\u001b[0;34m(\u001b[0m\u001b[0;34m[\u001b[0m\u001b[0marg\u001b[0m\u001b[0;34m]\u001b[0m\u001b[0;34m)\u001b[0m\u001b[0;34m,\u001b[0m \u001b[0mbox\u001b[0m\u001b[0;34m,\u001b[0m \u001b[0mformat\u001b[0m\u001b[0;34m)\u001b[0m\u001b[0;34m[\u001b[0m\u001b[0;36m0\u001b[0m\u001b[0;34m]\u001b[0m\u001b[0;34m\u001b[0m\u001b[0m\n",
      "\u001b[0;32m/Users/sunlu/anaconda/lib/python2.7/site-packages/pandas/core/tools/datetimes.pyc\u001b[0m in \u001b[0;36m_convert_listlike\u001b[0;34m(arg, box, format, name, tz)\u001b[0m\n\u001b[1;32m    445\u001b[0m                 \u001b[0;32mreturn\u001b[0m \u001b[0mDatetimeIndex\u001b[0m\u001b[0;34m.\u001b[0m\u001b[0m_simple_new\u001b[0m\u001b[0;34m(\u001b[0m\u001b[0mvalues\u001b[0m\u001b[0;34m,\u001b[0m \u001b[0mname\u001b[0m\u001b[0;34m=\u001b[0m\u001b[0mname\u001b[0m\u001b[0;34m,\u001b[0m \u001b[0mtz\u001b[0m\u001b[0;34m=\u001b[0m\u001b[0mtz\u001b[0m\u001b[0;34m)\u001b[0m\u001b[0;34m\u001b[0m\u001b[0m\n\u001b[1;32m    446\u001b[0m             \u001b[0;32mexcept\u001b[0m \u001b[0;34m(\u001b[0m\u001b[0mValueError\u001b[0m\u001b[0;34m,\u001b[0m \u001b[0mTypeError\u001b[0m\u001b[0;34m)\u001b[0m\u001b[0;34m:\u001b[0m\u001b[0;34m\u001b[0m\u001b[0m\n\u001b[0;32m--> 447\u001b[0;31m                 \u001b[0;32mraise\u001b[0m \u001b[0me\u001b[0m\u001b[0;34m\u001b[0m\u001b[0m\n\u001b[0m\u001b[1;32m    448\u001b[0m \u001b[0;34m\u001b[0m\u001b[0m\n\u001b[1;32m    449\u001b[0m     \u001b[0;32mif\u001b[0m \u001b[0marg\u001b[0m \u001b[0;32mis\u001b[0m \u001b[0mNone\u001b[0m\u001b[0;34m:\u001b[0m\u001b[0;34m\u001b[0m\u001b[0m\n",
      "\u001b[0;31mValueError\u001b[0m: Unknown string format"
     ],
     "output_type": "error"
    }
   ],
   "source": [
    "# 遇到无效数据报错\n",
    "pd.to_datetime(['2017-1-1','invalid'], errors='raise')"
   ]
  },
  {
   "cell_type": "code",
   "execution_count": 19,
   "metadata": {},
   "outputs": [
    {
     "data": {
      "text/plain": [
       "array(['2017-1-1', 'invalid'], dtype=object)"
      ]
     },
     "execution_count": 19,
     "metadata": {},
     "output_type": "execute_result"
    }
   ],
   "source": [
    "# 忽略无效数据\n",
    "pd.to_datetime(['2017-1-1','invalid'], errors='ignore')"
   ]
  },
  {
   "cell_type": "code",
   "execution_count": 20,
   "metadata": {},
   "outputs": [
    {
     "data": {
      "text/plain": [
       "DatetimeIndex(['2017-01-01', 'NaT'], dtype='datetime64[ns]', freq=None)"
      ]
     },
     "execution_count": 20,
     "metadata": {},
     "output_type": "execute_result"
    }
   ],
   "source": [
    "# 无效数据显示为 NaT\n",
    "pd.to_datetime(['2017-1-1', 'invalid'], errors='coerce')"
   ]
  },
  {
   "cell_type": "code",
   "execution_count": 22,
   "metadata": {},
   "outputs": [
    {
     "data": {
      "text/plain": [
       "DatetimeIndex(['2017-01-01 00:00:00', '2017-01-01 01:00:00',\n               '2017-01-01 02:00:00', '2017-01-01 03:00:00',\n               '2017-01-01 04:00:00', '2017-01-01 05:00:00',\n               '2017-01-01 06:00:00', '2017-01-01 07:00:00',\n               '2017-01-01 08:00:00', '2017-01-01 09:00:00',\n               '2017-01-01 10:00:00', '2017-01-01 11:00:00',\n               '2017-01-01 12:00:00', '2017-01-01 13:00:00',\n               '2017-01-01 14:00:00', '2017-01-01 15:00:00',\n               '2017-01-01 16:00:00', '2017-01-01 17:00:00',\n               '2017-01-01 18:00:00', '2017-01-01 19:00:00',\n               '2017-01-01 20:00:00', '2017-01-01 21:00:00',\n               '2017-01-01 22:00:00', '2017-01-01 23:00:00',\n               '2017-01-02 00:00:00'],\n              dtype='datetime64[ns]', freq='H')"
      ]
     },
     "execution_count": 22,
     "metadata": {},
     "output_type": "execute_result"
    }
   ],
   "source": [
    "# 2017-1-1 到 2017-1-2，以小时间隔\n",
    "pd.date_range('2017-1-1','2017-1-2', freq='H')"
   ]
  },
  {
   "cell_type": "code",
   "execution_count": 23,
   "metadata": {},
   "outputs": [
    {
     "data": {
      "text/plain": [
       "DatetimeIndex(['2017-01-01 00:00:00', '2017-01-01 00:00:01',\n               '2017-01-01 00:00:02', '2017-01-01 00:00:03',\n               '2017-01-01 00:00:04', '2017-01-01 00:00:05',\n               '2017-01-01 00:00:06', '2017-01-01 00:00:07',\n               '2017-01-01 00:00:08', '2017-01-01 00:00:09'],\n              dtype='datetime64[ns]', freq='S')"
      ]
     },
     "execution_count": 23,
     "metadata": {},
     "output_type": "execute_result"
    }
   ],
   "source": [
    "# 从 2017-1-1 开始，以 1s 为间隔，向后推 10 次\n",
    "pd.date_range('2017-1-1', periods=10, freq='s')"
   ]
  },
  {
   "cell_type": "code",
   "execution_count": 24,
   "metadata": {},
   "outputs": [
    {
     "data": {
      "text/plain": [
       "DatetimeIndex(['2017-01-01 00:00:00', '2017-01-01 01:20:00',\n               '2017-01-01 02:40:00', '2017-01-01 04:00:00',\n               '2017-01-01 05:20:00', '2017-01-01 06:40:00',\n               '2017-01-01 08:00:00', '2017-01-01 09:20:00',\n               '2017-01-01 10:40:00', '2017-01-01 12:00:00'],\n              dtype='datetime64[ns]', freq='80T')"
      ]
     },
     "execution_count": 24,
     "metadata": {},
     "output_type": "execute_result"
    }
   ],
   "source": [
    "# 从 2017-1-1 开始，以 1H20min 为间隔，向后推 10 次\n",
    "pd.date_range('1//1/2017',periods=10, freq='1H20min')"
   ]
  },
  {
   "cell_type": "code",
   "execution_count": 25,
   "metadata": {},
   "outputs": [
    {
     "data": {
      "text/plain": [
       "DatetimeIndex(['2017-01-01 00:00:00', '2017-01-02 01:00:00',\n               '2017-01-03 02:00:00', '2017-01-04 03:00:00',\n               '2017-01-05 04:00:00', '2017-01-06 05:00:00',\n               '2017-01-07 06:00:00', '2017-01-08 07:00:00',\n               '2017-01-09 08:00:00', '2017-01-10 09:00:00'],\n              dtype='datetime64[ns]', freq='25H')"
      ]
     },
     "execution_count": 25,
     "metadata": {},
     "output_type": "execute_result"
    }
   ],
   "source": [
    "a = pd.date_range('2017-1-1',periods=10, freq='1D1H')\n",
    "a"
   ]
  },
  {
   "cell_type": "code",
   "execution_count": 27,
   "metadata": {},
   "outputs": [
    {
     "data": {
      "text/plain": [
       "Timestamp('2017-01-02 01:00:00', freq='25H')"
      ]
     },
     "execution_count": 27,
     "metadata": {},
     "output_type": "execute_result"
    }
   ],
   "source": [
    "# 选取索引为1的时间戳\n",
    "a[1]"
   ]
  },
  {
   "cell_type": "code",
   "execution_count": 28,
   "metadata": {},
   "outputs": [
    {
     "data": {
      "text/plain": [
       "DatetimeIndex(['2017-01-01 00:00:00', '2017-01-02 01:00:00',\n               '2017-01-03 02:00:00', '2017-01-04 03:00:00',\n               '2017-01-05 04:00:00'],\n              dtype='datetime64[ns]', freq='25H')"
      ]
     },
     "execution_count": 28,
     "metadata": {},
     "output_type": "execute_result"
    }
   ],
   "source": [
    "# 对索引从0到4的时间进行切分\n",
    "a[:5]"
   ]
  },
  {
   "cell_type": "markdown",
   "metadata": {},
   "source": [
    "DateOffset 对象"
   ]
  },
  {
   "cell_type": "code",
   "execution_count": 31,
   "metadata": {},
   "outputs": [
    {
     "data": {
      "text/plain": [
       "DatetimeIndex(['2017-01-01 00:00:00', '2017-01-02 01:00:00',\n               '2017-01-03 02:00:00', '2017-01-04 03:00:00',\n               '2017-01-05 04:00:00', '2017-01-06 05:00:00',\n               '2017-01-07 06:00:00', '2017-01-08 07:00:00',\n               '2017-01-09 08:00:00', '2017-01-10 09:00:00'],\n              dtype='datetime64[ns]', freq='25H')"
      ]
     },
     "execution_count": 31,
     "metadata": {},
     "output_type": "execute_result"
    }
   ],
   "source": [
    "import  pandas as pd\n",
    "from pandas import offsets\n",
    "a = pd.date_range('2017-1-1', periods=10, freq='1D1H')\n",
    "a"
   ]
  },
  {
   "cell_type": "code",
   "execution_count": 32,
   "metadata": {},
   "outputs": [
    {
     "name": "stderr",
     "output_type": "stream",
     "text": [
      "/Users/sunlu/anaconda/lib/python2.7/site-packages/pandas/core/indexes/datetimes.py:831: PerformanceWarning: Non-vectorized DateOffset being applied to Series or DatetimeIndex\n  \"or DatetimeIndex\", PerformanceWarning)\n"
     ]
    },
    {
     "data": {
      "text/plain": [
       "DatetimeIndex(['2017-01-03 03:00:00', '2017-01-04 03:00:00',\n               '2017-01-05 03:00:00', '2017-01-06 03:00:00',\n               '2017-01-07 03:00:00', '2017-01-08 03:00:00',\n               '2017-01-09 03:00:00', '2017-01-10 03:00:00',\n               '2017-01-11 03:00:00', '2017-01-12 03:00:00'],\n              dtype='datetime64[ns]', freq='D')"
      ]
     },
     "execution_count": 32,
     "metadata": {},
     "output_type": "execute_result"
    }
   ],
   "source": [
    "# 使用 DateOffset 对象让 a 依次增加 1 个月 + 2 天 + 3 小时\n",
    "a + offsets.DateOffset(month=1, days=2, hour=3)"
   ]
  },
  {
   "cell_type": "code",
   "execution_count": 33,
   "metadata": {},
   "outputs": [
    {
     "data": {
      "text/plain": [
       "DatetimeIndex(['2017-01-15 00:00:00', '2017-01-16 01:00:00',\n               '2017-01-17 02:00:00', '2017-01-18 03:00:00',\n               '2017-01-19 04:00:00', '2017-01-20 05:00:00',\n               '2017-01-21 06:00:00', '2017-01-22 07:00:00',\n               '2017-01-23 08:00:00', '2017-01-24 09:00:00'],\n              dtype='datetime64[ns]', freq='25H')"
      ]
     },
     "execution_count": 33,
     "metadata": {},
     "output_type": "execute_result"
    }
   ],
   "source": [
    "# 使用 DateOffset 对象让 a 向后偏移 2 周\n",
    "a + 2*offsets.Week()"
   ]
  },
  {
   "cell_type": "markdown",
   "metadata": {},
   "source": [
    "Period 时间间隔"
   ]
  },
  {
   "cell_type": "code",
   "execution_count": 34,
   "metadata": {},
   "outputs": [
    {
     "data": {
      "text/plain": [
       "Period('2017', 'A-DEC')"
      ]
     },
     "execution_count": 34,
     "metadata": {},
     "output_type": "execute_result"
    }
   ],
   "source": [
    "import pandas as pd\n",
    "\n",
    "# 1 年跨度\n",
    "pd.Period('2017')"
   ]
  },
  {
   "cell_type": "code",
   "execution_count": 35,
   "metadata": {},
   "outputs": [
    {
     "data": {
      "text/plain": [
       "Period('2017-01', 'M')"
      ]
     },
     "execution_count": 35,
     "metadata": {},
     "output_type": "execute_result"
    }
   ],
   "source": [
    "# 1个月跨度\n",
    "pd.Period('2017-1')"
   ]
  },
  {
   "cell_type": "code",
   "execution_count": 36,
   "metadata": {},
   "outputs": [
    {
     "data": {
      "text/plain": [
       "Period('2017-01-01', 'D')"
      ]
     },
     "execution_count": 36,
     "metadata": {},
     "output_type": "execute_result"
    }
   ],
   "source": [
    "# 1天跨度\n",
    "pd.Period('2017-1-1')"
   ]
  },
  {
   "cell_type": "code",
   "execution_count": 37,
   "metadata": {},
   "outputs": [
    {
     "data": {
      "text/plain": [
       "Period('2017-01-01 12:00', 'H')"
      ]
     },
     "execution_count": 37,
     "metadata": {},
     "output_type": "execute_result"
    }
   ],
   "source": [
    "# 1小时跨度\n",
    "pd.Period('2017-1-1 12')"
   ]
  },
  {
   "cell_type": "code",
   "execution_count": 38,
   "metadata": {},
   "outputs": [
    {
     "data": {
      "text/plain": [
       "Period('2017-01-01 12:00', 'T')"
      ]
     },
     "execution_count": 38,
     "metadata": {},
     "output_type": "execute_result"
    }
   ],
   "source": [
    "# 1分钟跨度\n",
    "pd.Period('2017-1-1 12:00')"
   ]
  },
  {
   "cell_type": "code",
   "execution_count": 39,
   "metadata": {},
   "outputs": [
    {
     "data": {
      "text/plain": [
       "Period('2017-01-01 12:05:00', 'S')"
      ]
     },
     "execution_count": 39,
     "metadata": {},
     "output_type": "execute_result"
    }
   ],
   "source": [
    "# 1秒跨度\n",
    "pd.Period('2017-1-1 12:05:00', 'S')"
   ]
  },
  {
   "cell_type": "code",
   "execution_count": 40,
   "metadata": {},
   "outputs": [
    {
     "data": {
      "text/plain": [
       "PeriodIndex(['2017-01', '2017-02', '2017-03', '2017-04', '2017-05', '2017-06',\n             '2017-07', '2017-08', '2017-09', '2017-10', '2017-11', '2017-12',\n             '2018-01'],\n            dtype='period[M]', freq='M')"
      ]
     },
     "execution_count": 40,
     "metadata": {},
     "output_type": "execute_result"
    }
   ],
   "source": [
    "pd.period_range('2017-1', '2018-1', freq='M')"
   ]
  },
  {
   "cell_type": "code",
   "execution_count": 41,
   "metadata": {},
   "outputs": [
    {
     "data": {
      "text/plain": [
       "Period('2017-01-01', 'D')"
      ]
     },
     "execution_count": 41,
     "metadata": {},
     "output_type": "execute_result"
    }
   ],
   "source": [
    "pd.Period('2017-1-1')"
   ]
  },
  {
   "cell_type": "code",
   "execution_count": 42,
   "metadata": {},
   "outputs": [
    {
     "data": {
      "text/plain": [
       "Timestamp('2017-01-01 00:00:00')"
      ]
     },
     "execution_count": 42,
     "metadata": {},
     "output_type": "execute_result"
    }
   ],
   "source": [
    "pd.Timestamp('2017-1-1')"
   ]
  },
  {
   "cell_type": "markdown",
   "metadata": {},
   "source": [
    "时序数据检索"
   ]
  },
  {
   "cell_type": "code",
   "execution_count": 44,
   "metadata": {},
   "outputs": [
    {
     "data": {
      "text/plain": [
       "DatetimeIndex(['2017-01-31', '2017-02-28', '2017-03-31', '2017-04-30',\n               '2017-05-31', '2017-06-30', '2017-07-31', '2017-08-31',\n               '2017-09-30', '2017-10-31', '2017-11-30', '2017-12-31',\n               '2018-01-31', '2018-02-28', '2018-03-31', '2018-04-30',\n               '2018-05-31', '2018-06-30', '2018-07-31', '2018-08-31'],\n              dtype='datetime64[ns]', freq='M')"
      ]
     },
     "execution_count": 44,
     "metadata": {},
     "output_type": "execute_result"
    }
   ],
   "source": [
    "import numpy as np\n",
    "import pandas as pd\n",
    "\n",
    "# 生成时间索引\n",
    "i = pd.date_range('2017-1-1', periods=20, freq='M')\n",
    "i"
   ]
  },
  {
   "cell_type": "code",
   "execution_count": 45,
   "metadata": {},
   "outputs": [
    {
     "data": {
      "text/plain": [
       "2017-01-31    1.371478\n2017-02-28   -1.157895\n2017-03-31    0.424856\n2017-04-30    0.284119\n2017-05-31   -0.454915\n2017-06-30    0.186624\n2017-07-31   -1.013622\n2017-08-31    0.758245\n2017-09-30   -0.345331\n2017-10-31   -1.035770\n2017-11-30    0.284964\n2017-12-31    2.107676\n2018-01-31    0.906906\n2018-02-28    1.234486\n2018-03-31   -0.336211\n2018-04-30   -1.198593\n2018-05-31    0.220974\n2018-06-30    1.134804\n2018-07-31   -2.438670\n2018-08-31    2.007354\nFreq: M, dtype: float64"
      ]
     },
     "execution_count": 45,
     "metadata": {},
     "output_type": "execute_result"
    }
   ],
   "source": [
    "# 生成随机数据并添加时间作为索引\n",
    "data = pd.Series(np.random.randn(len(i)), index=i)\n",
    "data"
   ]
  },
  {
   "cell_type": "code",
   "execution_count": 46,
   "metadata": {},
   "outputs": [
    {
     "data": {
      "text/plain": [
       "2017-01-31    1.371478\n2017-02-28   -1.157895\n2017-03-31    0.424856\n2017-04-30    0.284119\n2017-05-31   -0.454915\n2017-06-30    0.186624\n2017-07-31   -1.013622\n2017-08-31    0.758245\n2017-09-30   -0.345331\n2017-10-31   -1.035770\n2017-11-30    0.284964\n2017-12-31    2.107676\nFreq: M, dtype: float64"
      ]
     },
     "execution_count": 46,
     "metadata": {},
     "output_type": "execute_result"
    }
   ],
   "source": [
    "# 检索 2017 年的所有数据\n",
    "data['2017']"
   ]
  },
  {
   "cell_type": "code",
   "execution_count": 47,
   "metadata": {},
   "outputs": [
    {
     "data": {
      "text/plain": [
       "2017-07-31   -1.013622\n2017-08-31    0.758245\n2017-09-30   -0.345331\n2017-10-31   -1.035770\n2017-11-30    0.284964\n2017-12-31    2.107676\n2018-01-31    0.906906\n2018-02-28    1.234486\n2018-03-31   -0.336211\nFreq: M, dtype: float64"
      ]
     },
     "execution_count": 47,
     "metadata": {},
     "output_type": "execute_result"
    }
   ],
   "source": [
    "# 检索 2017 年 7 月到 2018 年 3 月之间的所有数据\n",
    "data['2017-07':'2018-03']"
   ]
  },
  {
   "cell_type": "code",
   "execution_count": 48,
   "metadata": {},
   "outputs": [
    {
     "data": {
      "text/plain": [
       "2017-01-31    1.371478\nFreq: M, dtype: float64"
      ]
     },
     "execution_count": 48,
     "metadata": {},
     "output_type": "execute_result"
    }
   ],
   "source": [
    "# 检索 2017 年 7 月到 2018 年 3 月之间的所有数据\n",
    "data.loc['2017-01']"
   ]
  },
  {
   "cell_type": "code",
   "execution_count": 49,
   "metadata": {},
   "outputs": [
    {
     "data": {
      "text/plain": [
       "2017-03-31    0.424856\n2017-04-30    0.284119\n2017-05-31   -0.454915\n2017-06-30    0.186624\n2017-07-31   -1.013622\n2017-08-31    0.758245\n2017-09-30   -0.345331\n2017-10-31   -1.035770\n2017-11-30    0.284964\n2017-12-31    2.107676\n2018-01-31    0.906906\n2018-02-28    1.234486\n2018-03-31   -0.336211\nFreq: M, dtype: float64"
      ]
     },
     "execution_count": 49,
     "metadata": {},
     "output_type": "execute_result"
    }
   ],
   "source": [
    "# 使用 truncate 方法检索 2017-3-1 到 2018-4-2 期间的数据\n",
    "data.truncate(before='2017-3-1', after='2018-4-2')"
   ]
  },
  {
   "cell_type": "markdown",
   "metadata": {},
   "source": [
    "时序数据偏移"
   ]
  },
  {
   "cell_type": "code",
   "execution_count": 50,
   "metadata": {},
   "outputs": [
    {
     "data": {
      "text/plain": [
       "DatetimeIndex(['2017-01-31', '2017-02-28', '2017-03-31', '2017-04-30',\n               '2017-05-31'],\n              dtype='datetime64[ns]', freq='M')"
      ]
     },
     "execution_count": 50,
     "metadata": {},
     "output_type": "execute_result"
    }
   ],
   "source": [
    "import numpy as np\n",
    "import pandas as pd\n",
    "# 生成时间索引\n",
    "i = pd.date_range('2017-1-1', periods=5, freq='M')\n",
    "i"
   ]
  },
  {
   "cell_type": "code",
   "execution_count": 53,
   "metadata": {},
   "outputs": [
    {
     "data": {
      "text/plain": [
       "2017-01-31   -0.568402\n2017-02-28   -0.577463\n2017-03-31   -1.526812\n2017-04-30   -0.504770\n2017-05-31   -0.269233\nFreq: M, dtype: float64"
      ]
     },
     "execution_count": 53,
     "metadata": {},
     "output_type": "execute_result"
    }
   ],
   "source": [
    "# 生成随机数据并添加时间作为索引\n",
    "data = pd.Series(np.random.randn(len(i)), index = i)\n",
    "data"
   ]
  },
  {
   "cell_type": "code",
   "execution_count": 55,
   "metadata": {},
   "outputs": [
    {
     "data": {
      "text/plain": [
       "2017-01-31         NaN\n2017-02-28         NaN\n2017-03-31         NaN\n2017-04-30   -0.568402\n2017-05-31   -0.577463\nFreq: M, dtype: float64"
      ]
     },
     "execution_count": 55,
     "metadata": {},
     "output_type": "execute_result"
    }
   ],
   "source": [
    "# 将索引向前位移 3 个单位，也就是数据向后位移 3 个单位，缺失数据 Pandas 会用 NaN 自动填充\n",
    "data.shift(3)"
   ]
  },
  {
   "cell_type": "code",
   "execution_count": 56,
   "metadata": {},
   "outputs": [
    {
     "data": {
      "text/plain": [
       "2017-01-31   -0.504770\n2017-02-28   -0.269233\n2017-03-31         NaN\n2017-04-30         NaN\n2017-05-31         NaN\nFreq: M, dtype: float64"
      ]
     },
     "execution_count": 56,
     "metadata": {},
     "output_type": "execute_result"
    }
   ],
   "source": [
    "# 将索引向后位移 3 个单位，也就是数据向前位移 3 个单位\n",
    "data.shift(-3)"
   ]
  },
  {
   "cell_type": "code",
   "execution_count": 57,
   "metadata": {},
   "outputs": [
    {
     "data": {
      "text/plain": [
       "2017-02-03   -0.568402\n2017-03-03   -0.577463\n2017-04-03   -1.526812\n2017-05-03   -0.504770\n2017-06-03   -0.269233\ndtype: float64"
      ]
     },
     "execution_count": 57,
     "metadata": {},
     "output_type": "execute_result"
    }
   ],
   "source": [
    "# 将索引的时间向后移动 3 天\n",
    "data.shift(3, freq='D')"
   ]
  },
  {
   "cell_type": "markdown",
   "metadata": {},
   "source": [
    "时序数据重采样"
   ]
  },
  {
   "cell_type": "code",
   "execution_count": 58,
   "metadata": {},
   "outputs": [
    {
     "data": {
      "text/plain": [
       "DatetimeIndex(['2017-01-01', '2017-01-02', '2017-01-03', '2017-01-04',\n               '2017-01-05', '2017-01-06', '2017-01-07', '2017-01-08',\n               '2017-01-09', '2017-01-10', '2017-01-11', '2017-01-12',\n               '2017-01-13', '2017-01-14', '2017-01-15', '2017-01-16',\n               '2017-01-17', '2017-01-18', '2017-01-19', '2017-01-20'],\n              dtype='datetime64[ns]', freq='D')"
      ]
     },
     "execution_count": 58,
     "metadata": {},
     "output_type": "execute_result"
    }
   ],
   "source": [
    "import pandas as pd\n",
    "import numpy as np\n",
    "i = pd.date_range('2017-1-1', periods=20, freq='D')\n",
    "i"
   ]
  },
  {
   "cell_type": "code",
   "execution_count": 60,
   "metadata": {},
   "outputs": [
    {
     "data": {
      "text/plain": [
       "2017-01-01    0.408097\n2017-01-02   -0.947863\n2017-01-03    0.705552\n2017-01-04   -0.312739\n2017-01-05    0.995997\n2017-01-06    2.975416\n2017-01-07   -0.128451\n2017-01-08   -0.510146\n2017-01-09    0.019520\n2017-01-10   -1.513320\n2017-01-11    0.191937\n2017-01-12   -1.122994\n2017-01-13   -0.522004\n2017-01-14   -0.516702\n2017-01-15    0.385429\n2017-01-16   -0.257194\n2017-01-17   -2.633614\n2017-01-18    0.122347\n2017-01-19    0.118858\n2017-01-20    0.159327\nFreq: D, dtype: float64"
      ]
     },
     "execution_count": 60,
     "metadata": {},
     "output_type": "execute_result"
    }
   ],
   "source": [
    "data = pd.Series(np.random.randn(len(i)), index=i)\n",
    "data"
   ]
  },
  {
   "cell_type": "code",
   "execution_count": 61,
   "metadata": {},
   "outputs": [
    {
     "data": {
      "text/plain": [
       "2017-01-01   -0.539766\n2017-01-03    0.392813\n2017-01-05    3.971413\n2017-01-07   -0.638597\n2017-01-09   -1.493799\n2017-01-11   -0.931056\n2017-01-13   -1.038707\n2017-01-15    0.128235\n2017-01-17   -2.511267\n2017-01-19    0.278185\nFreq: 2D, dtype: float64"
      ]
     },
     "execution_count": 61,
     "metadata": {},
     "output_type": "execute_result"
    }
   ],
   "source": [
    "# 按照 2 天进行降采样，并对 2 天对应的数据求和作为新数据\n",
    "data.resample('2D').sum()"
   ]
  },
  {
   "cell_type": "code",
   "execution_count": 62,
   "metadata": {},
   "outputs": [
    {
     "data": {
      "text/plain": [
       "2017-01-01   -0.269883\n2017-01-03    0.196407\n2017-01-05    1.985706\n2017-01-07   -0.319299\n2017-01-09   -0.746900\n2017-01-11   -0.465528\n2017-01-13   -0.519353\n2017-01-15    0.064117\n2017-01-17   -1.255633\n2017-01-19    0.139092\nFreq: 2D, dtype: float64"
      ]
     },
     "execution_count": 62,
     "metadata": {},
     "output_type": "execute_result"
    }
   ],
   "source": [
    "# 按照 2 天进行降采样，并对 2 天对应的数据求平均值作为新数据\n",
    "data.resample('2D').mean()"
   ]
  },
  {
   "cell_type": "code",
   "execution_count": 63,
   "metadata": {},
   "outputs": [
    {
     "data": {
      "text/plain": [
       "2017-01-01    0.408097\n2017-01-03    0.705552\n2017-01-05    2.975416\n2017-01-07   -0.128451\n2017-01-09    0.019520\n2017-01-11    0.191937\n2017-01-13   -0.516702\n2017-01-15    0.385429\n2017-01-17    0.122347\n2017-01-19    0.159327\nFreq: 2D, dtype: float64"
      ]
     },
     "execution_count": 63,
     "metadata": {},
     "output_type": "execute_result"
    }
   ],
   "source": [
    "# 按照 2 天进行降采样，并选取对应 2 天的最大值作为新数据\n",
    "data.resample('2D').max()"
   ]
  },
  {
   "cell_type": "code",
   "execution_count": 65,
   "metadata": {},
   "outputs": [
    {
     "data": {
      "text/html": [
       "<div>\n",
       "<style>\n",
       "    .dataframe thead tr:only-child th {\n",
       "        text-align: right;\n",
       "    }\n",
       "\n",
       "    .dataframe thead th {\n",
       "        text-align: left;\n",
       "    }\n",
       "\n",
       "    .dataframe tbody tr th {\n",
       "        vertical-align: top;\n",
       "    }\n",
       "</style>\n",
       "<table border=\"1\" class=\"dataframe\">\n",
       "  <thead>\n",
       "    <tr style=\"text-align: right;\">\n",
       "      <th></th>\n",
       "      <th>open</th>\n",
       "      <th>high</th>\n",
       "      <th>low</th>\n",
       "      <th>close</th>\n",
       "    </tr>\n",
       "  </thead>\n",
       "  <tbody>\n",
       "    <tr>\n",
       "      <th>2017-01-01</th>\n",
       "      <td>0.408097</td>\n",
       "      <td>0.408097</td>\n",
       "      <td>-0.947863</td>\n",
       "      <td>-0.947863</td>\n",
       "    </tr>\n",
       "    <tr>\n",
       "      <th>2017-01-03</th>\n",
       "      <td>0.705552</td>\n",
       "      <td>0.705552</td>\n",
       "      <td>-0.312739</td>\n",
       "      <td>-0.312739</td>\n",
       "    </tr>\n",
       "    <tr>\n",
       "      <th>2017-01-05</th>\n",
       "      <td>0.995997</td>\n",
       "      <td>2.975416</td>\n",
       "      <td>0.995997</td>\n",
       "      <td>2.975416</td>\n",
       "    </tr>\n",
       "    <tr>\n",
       "      <th>2017-01-07</th>\n",
       "      <td>-0.128451</td>\n",
       "      <td>-0.128451</td>\n",
       "      <td>-0.510146</td>\n",
       "      <td>-0.510146</td>\n",
       "    </tr>\n",
       "    <tr>\n",
       "      <th>2017-01-09</th>\n",
       "      <td>0.019520</td>\n",
       "      <td>0.019520</td>\n",
       "      <td>-1.513320</td>\n",
       "      <td>-1.513320</td>\n",
       "    </tr>\n",
       "    <tr>\n",
       "      <th>2017-01-11</th>\n",
       "      <td>0.191937</td>\n",
       "      <td>0.191937</td>\n",
       "      <td>-1.122994</td>\n",
       "      <td>-1.122994</td>\n",
       "    </tr>\n",
       "    <tr>\n",
       "      <th>2017-01-13</th>\n",
       "      <td>-0.522004</td>\n",
       "      <td>-0.516702</td>\n",
       "      <td>-0.522004</td>\n",
       "      <td>-0.516702</td>\n",
       "    </tr>\n",
       "    <tr>\n",
       "      <th>2017-01-15</th>\n",
       "      <td>0.385429</td>\n",
       "      <td>0.385429</td>\n",
       "      <td>-0.257194</td>\n",
       "      <td>-0.257194</td>\n",
       "    </tr>\n",
       "    <tr>\n",
       "      <th>2017-01-17</th>\n",
       "      <td>-2.633614</td>\n",
       "      <td>0.122347</td>\n",
       "      <td>-2.633614</td>\n",
       "      <td>0.122347</td>\n",
       "    </tr>\n",
       "    <tr>\n",
       "      <th>2017-01-19</th>\n",
       "      <td>0.118858</td>\n",
       "      <td>0.159327</td>\n",
       "      <td>0.118858</td>\n",
       "      <td>0.159327</td>\n",
       "    </tr>\n",
       "  </tbody>\n",
       "</table>\n",
       "</div>"
      ],
      "text/plain": [
       "<div>\n",
       "<style>\n",
       "    .dataframe thead tr:only-child th {\n",
       "        text-align: right;\n",
       "    }\n",
       "\n",
       "    .dataframe thead th {\n",
       "        text-align: left;\n",
       "    }\n",
       "\n",
       "    .dataframe tbody tr th {\n",
       "        vertical-align: top;\n",
       "    }\n",
       "</style>\n",
       "<table border=\"1\" class=\"dataframe\">\n",
       "  <thead>\n",
       "    <tr style=\"text-align: right;\">\n",
       "      <th></th>\n",
       "      <th>open</th>\n",
       "      <th>high</th>\n",
       "      <th>low</th>\n",
       "      <th>close</th>\n",
       "    </tr>\n",
       "  </thead>\n",
       "  <tbody>\n",
       "    <tr>\n",
       "      <th>2017-01-01</th>\n",
       "      <td>0.408097</td>\n",
       "      <td>0.408097</td>\n",
       "      <td>-0.947863</td>\n",
       "      <td>-0.947863</td>\n",
       "    </tr>\n",
       "    <tr>\n",
       "      <th>2017-01-03</th>\n",
       "      <td>0.705552</td>\n",
       "      <td>0.705552</td>\n",
       "      <td>-0.312739</td>\n",
       "      <td>-0.312739</td>\n",
       "    </tr>\n",
       "    <tr>\n",
       "      <th>2017-01-05</th>\n",
       "      <td>0.995997</td>\n",
       "      <td>2.975416</td>\n",
       "      <td>0.995997</td>\n",
       "      <td>2.975416</td>\n",
       "    </tr>\n",
       "    <tr>\n",
       "      <th>2017-01-07</th>\n",
       "      <td>-0.128451</td>\n",
       "      <td>-0.128451</td>\n",
       "      <td>-0.510146</td>\n",
       "      <td>-0.510146</td>\n",
       "    </tr>\n",
       "    <tr>\n",
       "      <th>2017-01-09</th>\n",
       "      <td>0.019520</td>\n",
       "      <td>0.019520</td>\n",
       "      <td>-1.513320</td>\n",
       "      <td>-1.513320</td>\n",
       "    </tr>\n",
       "    <tr>\n",
       "      <th>2017-01-11</th>\n",
       "      <td>0.191937</td>\n",
       "      <td>0.191937</td>\n",
       "      <td>-1.122994</td>\n",
       "      <td>-1.122994</td>\n",
       "    </tr>\n",
       "    <tr>\n",
       "      <th>2017-01-13</th>\n",
       "      <td>-0.522004</td>\n",
       "      <td>-0.516702</td>\n",
       "      <td>-0.522004</td>\n",
       "      <td>-0.516702</td>\n",
       "    </tr>\n",
       "    <tr>\n",
       "      <th>2017-01-15</th>\n",
       "      <td>0.385429</td>\n",
       "      <td>0.385429</td>\n",
       "      <td>-0.257194</td>\n",
       "      <td>-0.257194</td>\n",
       "    </tr>\n",
       "    <tr>\n",
       "      <th>2017-01-17</th>\n",
       "      <td>-2.633614</td>\n",
       "      <td>0.122347</td>\n",
       "      <td>-2.633614</td>\n",
       "      <td>0.122347</td>\n",
       "    </tr>\n",
       "    <tr>\n",
       "      <th>2017-01-19</th>\n",
       "      <td>0.118858</td>\n",
       "      <td>0.159327</td>\n",
       "      <td>0.118858</td>\n",
       "      <td>0.159327</td>\n",
       "    </tr>\n",
       "  </tbody>\n",
       "</table>\n",
       "</div>"
      ]
     },
     "execution_count": 65,
     "metadata": {},
     "output_type": "execute_result"
    }
   ],
   "source": [
    "# 按照 2 天进行降采样，并将对应 2 天数据的原值、最大值、最小值、以及临近值列出\n",
    "data.resample('2D').ohlc()"
   ]
  },
  {
   "cell_type": "code",
   "execution_count": 66,
   "metadata": {},
   "outputs": [
    {
     "data": {
      "text/plain": [
       "2017-01-01 00:00:00    0.408097\n2017-01-01 01:00:00    0.408097\n2017-01-01 02:00:00    0.408097\n2017-01-01 03:00:00    0.408097\n2017-01-01 04:00:00    0.408097\n2017-01-01 05:00:00    0.408097\n2017-01-01 06:00:00    0.408097\n2017-01-01 07:00:00    0.408097\n2017-01-01 08:00:00    0.408097\n2017-01-01 09:00:00    0.408097\n2017-01-01 10:00:00    0.408097\n2017-01-01 11:00:00    0.408097\n2017-01-01 12:00:00    0.408097\n2017-01-01 13:00:00    0.408097\n2017-01-01 14:00:00    0.408097\n2017-01-01 15:00:00    0.408097\n2017-01-01 16:00:00    0.408097\n2017-01-01 17:00:00    0.408097\n2017-01-01 18:00:00    0.408097\n2017-01-01 19:00:00    0.408097\n2017-01-01 20:00:00    0.408097\n2017-01-01 21:00:00    0.408097\n2017-01-01 22:00:00    0.408097\n2017-01-01 23:00:00    0.408097\n2017-01-02 00:00:00   -0.947863\n2017-01-02 01:00:00   -0.947863\n2017-01-02 02:00:00   -0.947863\n2017-01-02 03:00:00   -0.947863\n2017-01-02 04:00:00   -0.947863\n2017-01-02 05:00:00   -0.947863\n                         ...   \n2017-01-18 19:00:00    0.122347\n2017-01-18 20:00:00    0.122347\n2017-01-18 21:00:00    0.122347\n2017-01-18 22:00:00    0.122347\n2017-01-18 23:00:00    0.122347\n2017-01-19 00:00:00    0.118858\n2017-01-19 01:00:00    0.118858\n2017-01-19 02:00:00    0.118858\n2017-01-19 03:00:00    0.118858\n2017-01-19 04:00:00    0.118858\n2017-01-19 05:00:00    0.118858\n2017-01-19 06:00:00    0.118858\n2017-01-19 07:00:00    0.118858\n2017-01-19 08:00:00    0.118858\n2017-01-19 09:00:00    0.118858\n2017-01-19 10:00:00    0.118858\n2017-01-19 11:00:00    0.118858\n2017-01-19 12:00:00    0.118858\n2017-01-19 13:00:00    0.118858\n2017-01-19 14:00:00    0.118858\n2017-01-19 15:00:00    0.118858\n2017-01-19 16:00:00    0.118858\n2017-01-19 17:00:00    0.118858\n2017-01-19 18:00:00    0.118858\n2017-01-19 19:00:00    0.118858\n2017-01-19 20:00:00    0.118858\n2017-01-19 21:00:00    0.118858\n2017-01-19 22:00:00    0.118858\n2017-01-19 23:00:00    0.118858\n2017-01-20 00:00:00    0.159327\nFreq: H, Length: 457, dtype: float64"
      ]
     },
     "execution_count": 66,
     "metadata": {},
     "output_type": "execute_result"
    }
   ],
   "source": [
    "# 时间频率从天提升到小时，并使用相同的数据对新增加行填充\n",
    "data.resample('H').ffill()"
   ]
  },
  {
   "cell_type": "code",
   "execution_count": 67,
   "metadata": {},
   "outputs": [
    {
     "data": {
      "text/plain": [
       "2017-01-01 00:00:00    0.408097\n2017-01-01 01:00:00         NaN\n2017-01-01 02:00:00         NaN\n2017-01-01 03:00:00         NaN\n2017-01-01 04:00:00         NaN\n2017-01-01 05:00:00         NaN\n2017-01-01 06:00:00         NaN\n2017-01-01 07:00:00         NaN\n2017-01-01 08:00:00         NaN\n2017-01-01 09:00:00         NaN\n2017-01-01 10:00:00         NaN\n2017-01-01 11:00:00         NaN\n2017-01-01 12:00:00         NaN\n2017-01-01 13:00:00         NaN\n2017-01-01 14:00:00         NaN\n2017-01-01 15:00:00         NaN\n2017-01-01 16:00:00         NaN\n2017-01-01 17:00:00         NaN\n2017-01-01 18:00:00         NaN\n2017-01-01 19:00:00         NaN\n2017-01-01 20:00:00         NaN\n2017-01-01 21:00:00         NaN\n2017-01-01 22:00:00         NaN\n2017-01-01 23:00:00         NaN\n2017-01-02 00:00:00   -0.947863\n2017-01-02 01:00:00         NaN\n2017-01-02 02:00:00         NaN\n2017-01-02 03:00:00         NaN\n2017-01-02 04:00:00         NaN\n2017-01-02 05:00:00         NaN\n                         ...   \n2017-01-18 19:00:00         NaN\n2017-01-18 20:00:00         NaN\n2017-01-18 21:00:00         NaN\n2017-01-18 22:00:00         NaN\n2017-01-18 23:00:00         NaN\n2017-01-19 00:00:00    0.118858\n2017-01-19 01:00:00         NaN\n2017-01-19 02:00:00         NaN\n2017-01-19 03:00:00         NaN\n2017-01-19 04:00:00         NaN\n2017-01-19 05:00:00         NaN\n2017-01-19 06:00:00         NaN\n2017-01-19 07:00:00         NaN\n2017-01-19 08:00:00         NaN\n2017-01-19 09:00:00         NaN\n2017-01-19 10:00:00         NaN\n2017-01-19 11:00:00         NaN\n2017-01-19 12:00:00         NaN\n2017-01-19 13:00:00         NaN\n2017-01-19 14:00:00         NaN\n2017-01-19 15:00:00         NaN\n2017-01-19 16:00:00         NaN\n2017-01-19 17:00:00         NaN\n2017-01-19 18:00:00         NaN\n2017-01-19 19:00:00         NaN\n2017-01-19 20:00:00         NaN\n2017-01-19 21:00:00         NaN\n2017-01-19 22:00:00         NaN\n2017-01-19 23:00:00         NaN\n2017-01-20 00:00:00    0.159327\nFreq: H, Length: 457, dtype: float64"
      ]
     },
     "execution_count": 67,
     "metadata": {},
     "output_type": "execute_result"
    }
   ],
   "source": [
    "# 时间频率从天提升到小时，不对新增加行填充\n",
    "data.resample('H').asfreq()"
   ]
  },
  {
   "cell_type": "code",
   "execution_count": 69,
   "metadata": {},
   "outputs": [
    {
     "data": {
      "text/plain": [
       "2017-01-01 00:00:00    0.408097\n2017-01-01 01:00:00    0.408097\n2017-01-01 02:00:00    0.408097\n2017-01-01 03:00:00    0.408097\n2017-01-01 04:00:00         NaN\n2017-01-01 05:00:00         NaN\n2017-01-01 06:00:00         NaN\n2017-01-01 07:00:00         NaN\n2017-01-01 08:00:00         NaN\n2017-01-01 09:00:00         NaN\n2017-01-01 10:00:00         NaN\n2017-01-01 11:00:00         NaN\n2017-01-01 12:00:00         NaN\n2017-01-01 13:00:00         NaN\n2017-01-01 14:00:00         NaN\n2017-01-01 15:00:00         NaN\n2017-01-01 16:00:00         NaN\n2017-01-01 17:00:00         NaN\n2017-01-01 18:00:00         NaN\n2017-01-01 19:00:00         NaN\n2017-01-01 20:00:00         NaN\n2017-01-01 21:00:00         NaN\n2017-01-01 22:00:00         NaN\n2017-01-01 23:00:00         NaN\n2017-01-02 00:00:00   -0.947863\n2017-01-02 01:00:00   -0.947863\n2017-01-02 02:00:00   -0.947863\n2017-01-02 03:00:00   -0.947863\n2017-01-02 04:00:00         NaN\n2017-01-02 05:00:00         NaN\n                         ...   \n2017-01-18 19:00:00         NaN\n2017-01-18 20:00:00         NaN\n2017-01-18 21:00:00         NaN\n2017-01-18 22:00:00         NaN\n2017-01-18 23:00:00         NaN\n2017-01-19 00:00:00    0.118858\n2017-01-19 01:00:00    0.118858\n2017-01-19 02:00:00    0.118858\n2017-01-19 03:00:00    0.118858\n2017-01-19 04:00:00         NaN\n2017-01-19 05:00:00         NaN\n2017-01-19 06:00:00         NaN\n2017-01-19 07:00:00         NaN\n2017-01-19 08:00:00         NaN\n2017-01-19 09:00:00         NaN\n2017-01-19 10:00:00         NaN\n2017-01-19 11:00:00         NaN\n2017-01-19 12:00:00         NaN\n2017-01-19 13:00:00         NaN\n2017-01-19 14:00:00         NaN\n2017-01-19 15:00:00         NaN\n2017-01-19 16:00:00         NaN\n2017-01-19 17:00:00         NaN\n2017-01-19 18:00:00         NaN\n2017-01-19 19:00:00         NaN\n2017-01-19 20:00:00         NaN\n2017-01-19 21:00:00         NaN\n2017-01-19 22:00:00         NaN\n2017-01-19 23:00:00         NaN\n2017-01-20 00:00:00    0.159327\nFreq: H, Length: 457, dtype: float64"
      ]
     },
     "execution_count": 69,
     "metadata": {},
     "output_type": "execute_result"
    }
   ],
   "source": [
    "# 时间频率从天提升到小时，只对新增加前 3 行填充\n",
    "data.resample('H').ffill(limit=3)"
   ]
  },
  {
   "cell_type": "code",
   "execution_count": null,
   "metadata": {},
   "outputs": [],
   "source": [
    ""
   ]
  }
 ],
 "metadata": {
  "kernelspec": {
   "display_name": "Python 2",
   "language": "python",
   "name": "python2"
  },
  "language_info": {
   "codemirror_mode": {
    "name": "ipython",
    "version": 2.0
   },
   "file_extension": ".py",
   "mimetype": "text/x-python",
   "name": "python",
   "nbconvert_exporter": "python",
   "pygments_lexer": "ipython2",
   "version": "2.7.6"
  }
 },
 "nbformat": 4,
 "nbformat_minor": 0
}