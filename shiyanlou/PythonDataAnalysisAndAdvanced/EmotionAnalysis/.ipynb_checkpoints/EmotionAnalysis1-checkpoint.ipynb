{
 "cells": [
  {
   "cell_type": "markdown",
   "metadata": {
    "collapsed": true
   },
   "source": [
    "# 语料库分词处理"
   ]
  },
  {
   "cell_type": "code",
   "execution_count": 1,
   "metadata": {},
   "outputs": [
    {
     "name": "stderr",
     "output_type": "stream",
     "text": [
      "Building prefix dict from the default dictionary ...\n",
      "Loading model from cache /var/folders/9f/ztmq3pbj1dnfh4wctr4nbnd80000gn/T/jieba.cache\n",
      "Loading model cost 1.644 seconds.\n",
      "Prefix dict has been built succesfully.\n"
     ]
    },
    {
     "name": "stdout",
     "output_type": "stream",
     "text": [
      "done.\n"
     ]
    }
   ],
   "source": [
    "# -*- coding: utf-8 -*-\n",
    "\n",
    "import pandas as pd\n",
    "import jieba\n",
    "import numpy as np\n",
    "\n",
    "# 加载语料库文件，并导入数据\n",
    "neg = pd.read_excel('data_09/data/neg.xls', header=None, index=None)\n",
    "pos = pd.read_excel('data_09/data/pos.xls', header=None, index=None)\n",
    "\n",
    "# jieba 分词\n",
    "word_cut = lambda x: jieba.lcut(x)\n",
    "pos['words'] = pos[0].apply(word_cut)\n",
    "neg['words'] = neg[0].apply(word_cut)\n",
    "\n",
    "# 使用 1 表示积极情绪，0 表示消极情绪，并完成数组拼接\n",
    "x = np.concatenate((pos['words'], neg['words']))\n",
    "y = np.concatenate((np.ones(len(pos)), np.zeros(len(neg))))\n",
    "\n",
    "# 将 Ndarray 保存为二进制文件备用\n",
    "np.save('data_09/data/x_train.npy', x)\n",
    "np.save('data_09/data/y_train.npy', y)\n",
    "\n",
    "print('done.')"
   ]
  },
  {
   "cell_type": "markdown",
   "metadata": {},
   "source": [
    "# Word2vec处理"
   ]
  },
  {
   "cell_type": "code",
   "execution_count": null,
   "metadata": {
    "collapsed": true
   },
   "outputs": [],
   "source": [
    "# -*- coding: utf-8 -*-\n",
    "\n",
    "import numpy as np\n",
    "from gensim.models.word2vec import Word2Vec\n",
    "\n",
    "# 导入上面保存的分词数组\n",
    "x_train = np.load('data_09/data/x_train.npy')\n",
    "\n",
    "# 训练 Word2Vec 浅层神经网络模型\n",
    "w2v = Word2Vec(size=300, min_count=10)\n",
    "w2v.build_vocab(x_train)\n",
    "w2v.train(x_train, total_examples=w2v.corpus_count, epochs=w2v.iter)\n",
    "\n",
    "# 对每个句子的词向量进行均值计算\n",
    "def average_vec(text):\n",
    "    vec = np.zeros(300).reshape((1, 300))\n",
    "    for word in text:\n",
    "        try:\n",
    "            vec += w2v[word].reshape((1, 300))\n",
    "        except KeyError:\n",
    "            continue\n",
    "    return vec\n",
    "\n",
    "# 将词向量保存为 Ndarray\n",
    "train_vec = np.concatenate([average_vec(z) for z in x_train])\n",
    "\n",
    "# 保存 Word2Vec 模型及词向量\n",
    "w2v.save('data_09/data/w2v_model.pkl')\n",
    "np.save('data_09/data/x_train_vec.npy', train_vec)"
   ]
  },
  {
   "cell_type": "markdown",
   "metadata": {},
   "source": [
    "# 训练支持向量机情绪分类模型"
   ]
  },
  {
   "cell_type": "code",
   "execution_count": null,
   "metadata": {},
   "outputs": [
    {
     "name": "stdout",
     "output_type": "stream",
     "text": [
      "[LibSVM]"
     ]
    }
   ],
   "source": [
    "# -*- coding: utf-8 -*-\n",
    "\n",
    "import numpy as np\n",
    "from sklearn.externals import joblib\n",
    "from sklearn.svm import SVC\n",
    "\n",
    "# 导入词向量为训练特征\n",
    "x = np.load('data_09/data/x_train_vec.npy')\n",
    "\n",
    "# 导入情绪分类作为目标特征\n",
    "y = np.load('data_09/data/y_train.npy')\n",
    "\n",
    "# 构建支持向量机分类模型\n",
    "model = SVC(kernel='rbf', verbose=True)\n",
    "\n",
    "# 训练模型\n",
    "model.fit(x, y)\n",
    "\n",
    "# 保存模型为二进制文件\n",
    "joblib.dump(model, 'data_09/data/svm_model.pkl')\n",
    "\n",
    "from sklearn.model_selection import cross_val_score"
   ]
  },
  {
   "cell_type": "code",
   "execution_count": null,
   "metadata": {
    "collapsed": true
   },
   "outputs": [],
   "source": [
    "# 输出模型交叉验证准确率\n",
    "print(cross_val_score(model, x, y))"
   ]
  },
  {
   "cell_type": "markdown",
   "metadata": {},
   "source": [
    "# 对实验楼评判进行情绪判断"
   ]
  },
  {
   "cell_type": "code",
   "execution_count": null,
   "metadata": {
    "collapsed": true
   },
   "outputs": [],
   "source": [
    "# -*- coding: utf-8 -*-\n",
    "\n",
    "from gensim.models.word2vec import Word2Vec\n",
    "import numpy as np\n",
    "import jieba\n",
    "from sklearn.externals import joblib\n",
    "import pandas as pd\n",
    "\n",
    "# 读取 Word2Vec 并对新输入进行词向量计算\n",
    "def average_vec(words):\n",
    "    # 读取 Word2Vec 模型\n",
    "    w2v = Word2Vec.load('data_09/data/w2v_model.pkl')\n",
    "    vec = np.zeros(300).reshape((1, 300))\n",
    "    for word in words:\n",
    "        try:\n",
    "            vec += w2v[word].reshape((1, 300))\n",
    "        except KeyError:\n",
    "            continue\n",
    "    return vec\n",
    "\n",
    "# 对实验楼评论进行情感判断\n",
    "def svm_predict():\n",
    "    # 读取实验楼评论\n",
    "    df = pd.read_csv(\"data_09/comments.csv\", header=0)\n",
    "\n",
    "    comment_sentiment = []\n",
    "    for string in df['评论内容']:\n",
    "        # 对评论分词\n",
    "        words = jieba.lcut(str(string))\n",
    "        words_vec = average_vec(words)\n",
    "        # 读取支持向量机模型\n",
    "        model = joblib.load('data_09/data/svm_model.pkl')\n",
    "        result = model.predict(words_vec)\n",
    "        comment_sentiment.append(result[0])\n",
    "\n",
    "        # 实时返回积极或消极结果\n",
    "        if int(result[0]) == 1:\n",
    "            print(string, '[积极]')\n",
    "        else:\n",
    "            print(string, '[消极]')\n",
    "\n",
    "    #将情绪结果合并到原数据文件中\n",
    "    merged = pd.concat([df, pd.Series(comment_sentiment, name='用户情绪')], axis=1)\n",
    "\n",
    "    # 储存文件\n",
    "    pd.DataFrame.to_csv(merged,'data_09/comment_sentiment.csv')\n",
    "    print('done.')\n",
    "\n",
    "# 执行\n",
    "svm_predict()"
   ]
  },
  {
   "cell_type": "code",
   "execution_count": null,
   "metadata": {
    "collapsed": true
   },
   "outputs": [],
   "source": []
  }
 ],
 "metadata": {
  "kernelspec": {
   "display_name": "Python 2",
   "language": "python",
   "name": "python2"
  },
  "language_info": {
   "codemirror_mode": {
    "name": "ipython",
    "version": 2
   },
   "file_extension": ".py",
   "mimetype": "text/x-python",
   "name": "python",
   "nbconvert_exporter": "python",
   "pygments_lexer": "ipython2",
   "version": "2.7.13"
  }
 },
 "nbformat": 4,
 "nbformat_minor": 1
}
